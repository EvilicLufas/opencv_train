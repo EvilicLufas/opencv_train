{
 "cells": [
  {
   "cell_type": "code",
   "execution_count": 1,
   "metadata": {
    "collapsed": true
   },
   "outputs": [],
   "source": [
    "import numpy as np\n",
    "import scipy.interpolate"
   ]
  },
  {
   "cell_type": "markdown",
   "metadata": {},
   "source": [
    "---\n",
    "## 参考资料\n",
    "\n",
    "[pytorch_bilinear_interpolation.md](https://gist.github.com/peteflorence/a1da2c759ca1ac2b74af9a83f69ce20e)"
   ]
  },
  {
   "cell_type": "code",
   "execution_count": 2,
   "metadata": {
    "collapsed": true
   },
   "outputs": [],
   "source": [
    "# np.clip?"
   ]
  },
  {
   "cell_type": "code",
   "execution_count": 3,
   "metadata": {
    "collapsed": true
   },
   "outputs": [],
   "source": [
    "def bilinear_interpolate_numpy(im, x, y):\n",
    "    # 寻找以x为中心的附近x0，y0，x1和y1同时限制在图像im的索引范围内\n",
    "    x0 = np.floor(x).astype(int)\n",
    "    x1 = x0 + 1\n",
    "    y0 = np.floor(y).astype(int)\n",
    "    y1 = y0 + 1\n",
    "\n",
    "    # 限制在图像im的索引范围内\n",
    "    x0 = np.clip(x0, 0, im.shape[1]-1)\n",
    "    x1 = np.clip(x1, 0, im.shape[1]-1)\n",
    "    y0 = np.clip(y0, 0, im.shape[0]-1)\n",
    "    y1 = np.clip(y1, 0, im.shape[0]-1)\n",
    "\n",
    "    Ia = im[ y0, x0 ]\n",
    "    Ib = im[ y1, x0 ]\n",
    "    Ic = im[ y0, x1 ]\n",
    "    Id = im[ y1, x1 ]\n",
    "\n",
    "    wa = (x1-x) * (y1-y)\n",
    "    wb = (x1-x) * (y-y0)\n",
    "    wc = (x-x0) * (y1-y)\n",
    "    wd = (x-x0) * (y-y0)\n",
    "\n",
    "    return (Ia.T*wa).T + (Ib.T*wb).T + (Ic.T*wc).T + (Id.T*wd).T"
   ]
  },
  {
   "cell_type": "code",
   "execution_count": 4,
   "metadata": {
    "collapsed": true
   },
   "outputs": [],
   "source": [
    "def bilinear_interpolate_scipy(im, x, y):\n",
    "    x_indices = np.arange(im.shape[0])\n",
    "    y_indices = np.arange(im.shape[1])\n",
    "    interp_func = scipy.interpolate.interp2d(x_indices, y_indices, im, kind='linear')\n",
    "    return interp_func(x,y)"
   ]
  },
  {
   "cell_type": "code",
   "execution_count": 5,
   "metadata": {
    "collapsed": true
   },
   "outputs": [],
   "source": [
    "image = np.ones((5,5))\n",
    "image[3,3] = 4\n",
    "image[3,4] = 3"
   ]
  },
  {
   "cell_type": "code",
   "execution_count": 6,
   "metadata": {
    "collapsed": true
   },
   "outputs": [],
   "source": [
    "sample_x, sample_y = np.asarray([3.2]), np.asarray([3.4])"
   ]
  },
  {
   "cell_type": "code",
   "execution_count": 7,
   "metadata": {},
   "outputs": [
    {
     "name": "stdout",
     "output_type": "stream",
     "text": [
      "numpy result: [2.68]\n"
     ]
    }
   ],
   "source": [
    "print \"numpy result:\", bilinear_interpolate_numpy(image, sample_x, sample_y)"
   ]
  },
  {
   "cell_type": "code",
   "execution_count": 8,
   "metadata": {},
   "outputs": [
    {
     "name": "stdout",
     "output_type": "stream",
     "text": [
      "scipy result: [2.68]\n"
     ]
    }
   ],
   "source": [
    "print \"scipy result:\", bilinear_interpolate_scipy(image, sample_x, sample_y)"
   ]
  },
  {
   "cell_type": "code",
   "execution_count": null,
   "metadata": {
    "collapsed": true
   },
   "outputs": [],
   "source": []
  }
 ],
 "metadata": {
  "kernelspec": {
   "display_name": "Python 2",
   "language": "python",
   "name": "python2"
  },
  "language_info": {
   "codemirror_mode": {
    "name": "ipython",
    "version": 2
   },
   "file_extension": ".py",
   "mimetype": "text/x-python",
   "name": "python",
   "nbconvert_exporter": "python",
   "pygments_lexer": "ipython2",
   "version": "2.7.10"
  }
 },
 "nbformat": 4,
 "nbformat_minor": 2
}
