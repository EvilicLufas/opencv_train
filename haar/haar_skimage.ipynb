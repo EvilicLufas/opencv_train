{
 "cells": [
  {
   "cell_type": "code",
   "execution_count": 1,
   "metadata": {},
   "outputs": [],
   "source": [
    "%matplotlib inline\n",
    "import matplotlib.pyplot as plt\n",
    "import numpy as np\n",
    "from skimage.feature import haar_like_feature_coord, haar_like_feature, draw_haar_like_feature"
   ]
  },
  {
   "cell_type": "markdown",
   "metadata": {},
   "source": [
    "# Haar特征\n",
    "\n",
    "Haar特征个数计算公式如下所示：\n",
    "\n",
    "$$XY(W+1-w\\frac{X+1}{2})(H+1-h\\frac{Y+1}{2})$$\n",
    "$$X=[\\frac{W}{w}], Y=[\\frac{H}{h}]$$\n",
    "\n",
    "上述公式可以按照下述方式理解：\n",
    "\n",
    "- 对于某特定大小的特征，在窗口内滑动计算。\n",
    "也就是如图1（a）特征大小为2*1，对于24*24的图像。水平可滑动23步，垂直滑动24步，所以共有23*24个特征。\n",
    "\n",
    "- 对于一个特征，特征本身沿水平、竖直方向分别缩放。\n",
    "还看特征1（a），特征大小为2*1，则延水平方向可放大为：4*1，6*1，8*1，…，24*1；竖直方向可放大为：2*1，2*2，2*3，…，2*24。即每个特征有XY种放大方式。（！放大的矩形特征并限制保持2:1的比例！）\n",
    "\n",
    "---\n",
    "## 参考资料\n",
    "\n",
    "[【图像处理】计算Haar特征个数](https://blog.csdn.net/xiaowei_cqu/article/details/8216109)"
   ]
  },
  {
   "cell_type": "code",
   "execution_count": 2,
   "metadata": {
    "collapsed": true
   },
   "outputs": [],
   "source": [
    "# haar_like_feature_coord?"
   ]
  },
  {
   "cell_type": "code",
   "execution_count": 3,
   "metadata": {
    "collapsed": true
   },
   "outputs": [],
   "source": [
    "img = np.zeros((3, 3))"
   ]
  },
  {
   "cell_type": "code",
   "execution_count": 4,
   "metadata": {
    "collapsed": true
   },
   "outputs": [],
   "source": [
    "height, width = img.shape"
   ]
  },
  {
   "cell_type": "code",
   "execution_count": 5,
   "metadata": {},
   "outputs": [
    {
     "data": {
      "image/png": "[encoded data removed]",
      "text/plain": [
       "<Figure size 1440x1440 with 5 Axes>"
      ]
     },
     "metadata": {},
     "output_type": "display_data"
    }
   ],
   "source": [
    "feat_types = ['type-2-x', 'type-2-y', 'type-3-x', 'type-3-y', 'type-4']\n",
    "feat_types_len = len(feat_types)\n",
    "plt.figure(figsize=(20, 20))\n",
    "for feat_index, feat_type in enumerate(feat_types):\n",
    "    feat_coord, feat_type = haar_like_feature_coord(width, height, feat_type)\n",
    "    haar_feature = draw_haar_like_feature(img, 0, 0, height, width, feat_coord, max_n_features=1, random_state=1)\n",
    "    plt.subplot(1, feat_types_len, feat_index+1)\n",
    "    plt.imshow(haar_feature)\n",
    "    plt.axis('off')"
   ]
  },
  {
   "cell_type": "code",
   "execution_count": 6,
   "metadata": {},
   "outputs": [
    {
     "name": "stdout",
     "output_type": "stream",
     "text": [
      "24x24 image has 161864 haar features\n"
     ]
    }
   ],
   "source": [
    "# 24x24\n",
    "img = np.zeros((24, 24))\n",
    "height, width = img.shape\n",
    "feat_coord, feat_type = haar_like_feature_coord(width, height)\n",
    "print('24x24 image has {} haar features'.format(len(feat_coord)))"
   ]
  },
  {
   "cell_type": "code",
   "execution_count": 7,
   "metadata": {},
   "outputs": [
    {
     "name": "stdout",
     "output_type": "stream",
     "text": [
      "('haar_num:', 170496)\n"
     ]
    }
   ],
   "source": [
    "def haar_count(W, H, w, h):\n",
    "    X = int(W/w)\n",
    "    Y = int(H/h)\n",
    "    return X*Y*(W+1-w*(X+1)/2)*(H+1-h*(Y+1)/2)\n",
    "whs = [(2, 1), (1, 2), (3, 1), (1, 3), (2, 2)]\n",
    "harr_num = 0\n",
    "for w, h in whs:\n",
    "    harr_num += haar_count(24, 24, w, h)\n",
    "print('haar_num:', harr_num)"
   ]
  },
  {
   "cell_type": "code",
   "execution_count": null,
   "metadata": {
    "collapsed": true
   },
   "outputs": [],
   "source": []
  }
 ],
 "metadata": {
  "kernelspec": {
   "display_name": "Python 2",
   "language": "python",
   "name": "python2"
  },
  "language_info": {
   "codemirror_mode": {
    "name": "ipython",
    "version": 2
   },
   "file_extension": ".py",
   "mimetype": "text/x-python",
   "name": "python",
   "nbconvert_exporter": "python",
   "pygments_lexer": "ipython2",
   "version": "2.7.10"
  }
 },
 "nbformat": 4,
 "nbformat_minor": 2
}
