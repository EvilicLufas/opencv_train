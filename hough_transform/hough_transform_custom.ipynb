{
 "cells": [
  {
   "cell_type": "code",
   "execution_count": 1,
   "metadata": {
    "collapsed": true
   },
   "outputs": [],
   "source": [
    "%matplotlib inline\n",
    "import numpy as np\n",
    "import matplotlib.pyplot as plt"
   ]
  },
  {
   "cell_type": "code",
   "execution_count": 2,
   "metadata": {
    "collapsed": true
   },
   "outputs": [],
   "source": [
    "# np.nonzero?\n",
    "# np.argmax?"
   ]
  },
  {
   "cell_type": "code",
   "execution_count": 3,
   "metadata": {
    "collapsed": true
   },
   "outputs": [],
   "source": [
    "# 创建二值化图像0-1\n",
    "img = np.zeros((50,50))\n",
    "img[10:40, 10:40] = np.eye(30)"
   ]
  },
  {
   "cell_type": "code",
   "execution_count": 4,
   "metadata": {},
   "outputs": [
    {
     "data": {
      "text/plain": [
       "<matplotlib.image.AxesImage at 0x104a55d90>"
      ]
     },
     "execution_count": 4,
     "metadata": {},
     "output_type": "execute_result"
    },
    {
     "data": {
      "image/png": "[encoded data removed]",
      "text/plain": [
       "<Figure size 432x288 with 1 Axes>"
      ]
     },
     "metadata": {},
     "output_type": "display_data"
    }
   ],
   "source": [
    "plt.imshow(img)"
   ]
  },
  {
   "cell_type": "markdown",
   "metadata": {},
   "source": [
    "# 霍夫变换原理\n",
    "霍夫变换原理，计算过一个点的霍夫空间$\\rho$和$\\theta$的交集，最大的那些便是直线，其中$\\rho$和$\\theta$计算如下：\n",
    "$$\\rho=x \\cos{\\theta}+y \\sin{\\theta}$$\n",
    "\n",
    "---\n",
    "## 参考资料\n",
    "\n",
    "[Understanding Hough Transform With Python](https://alyssaq.github.io/2014/understanding-hough-transform/) 代码主要参考这篇博客。\n",
    "\n",
    "[Hough Line Transform](https://docs.opencv.org/2.4/doc/tutorials/imgproc/imgtrans/hough_lines/hough_lines.html) opencv中使用hough变换的例子。"
   ]
  },
  {
   "cell_type": "code",
   "execution_count": 5,
   "metadata": {},
   "outputs": [
    {
     "name": "stdout",
     "output_type": "stream",
     "text": [
      "('hough_space.shape:', (142, 180))\n",
      "('theta:', -46.0)\n",
      "('rho:', -0.5035460992907872)\n"
     ]
    },
    {
     "name": "stderr",
     "output_type": "stream",
     "text": [
      "/Library/Python/2.7/site-packages/ipykernel_launcher.py:11: DeprecationWarning: object of type <type 'float'> cannot be safely interpreted as an integer.\n",
      "  # This is added back by InteractiveShellApp.init_path()\n"
     ]
    }
   ],
   "source": [
    "def hough_line(img):\n",
    "    height, width = img.shape\n",
    "    thetas = np.deg2rad(np.arange(-90, 90))\n",
    "    num_thetas = len(thetas)\n",
    "    cos_thetas = np.cos(thetas)\n",
    "    sin_thetas = np.sin(thetas)\n",
    "#     print('theta:', theta)\n",
    "    y_ids, x_ids = np.nonzero(img)\n",
    "    max_rho = int(np.ceil(np.sqrt(height*height+width*width)))\n",
    "#     print('max_rho:', max_rho)\n",
    "    rhos = np.linspace(-max_rho, max_rho, max_rho * 2.0)\n",
    "    hough_space = np.zeros((2 * max_rho, num_thetas), dtype=np.uint64)\n",
    "    for x_id, y_id in zip(x_ids, y_ids):\n",
    "        for theta_id, theta in enumerate(thetas):\n",
    "            cos_theta = cos_thetas[theta_id]\n",
    "            sin_theta = sin_thetas[theta_id]\n",
    "            rho = int(x_id * cos_theta + y_id * sin_theta + max_rho)\n",
    "#             print('rho:', rho)\n",
    "            hough_space[rho, theta_id] += 1\n",
    "    return hough_space, thetas, rhos\n",
    "\n",
    "hough_space, thetas, rhos = hough_line(img)\n",
    "# print(np.sum(hough_space))\n",
    "idx = np.argmax(hough_space)\n",
    "theta = thetas[idx % hough_space.shape[1]]\n",
    "rho = rhos[idx / hough_space.shape[1]]\n",
    "print('hough_space.shape:', hough_space.shape)\n",
    "print('theta:', np.rad2deg(theta))\n",
    "print('rho:', rho)"
   ]
  },
  {
   "cell_type": "code",
   "execution_count": null,
   "metadata": {
    "collapsed": true
   },
   "outputs": [],
   "source": []
  }
 ],
 "metadata": {
  "kernelspec": {
   "display_name": "Python 2",
   "language": "python",
   "name": "python2"
  },
  "language_info": {
   "codemirror_mode": {
    "name": "ipython",
    "version": 2
   },
   "file_extension": ".py",
   "mimetype": "text/x-python",
   "name": "python",
   "nbconvert_exporter": "python",
   "pygments_lexer": "ipython2",
   "version": "2.7.10"
  }
 },
 "nbformat": 4,
 "nbformat_minor": 2
}
