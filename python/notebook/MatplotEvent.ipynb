{
 "cells": [
  {
   "cell_type": "code",
   "execution_count": 1,
   "metadata": {
    "collapsed": true
   },
   "outputs": [],
   "source": [
    "# %matplotlib inline\n",
    "import numpy as np\n",
    "import matplotlib.pyplot as plt"
   ]
  },
  {
   "cell_type": "code",
   "execution_count": 2,
   "metadata": {
    "collapsed": true
   },
   "outputs": [],
   "source": [
    "X = np.random.rand(100, 1000)\n",
    "xs = np.mean(X, axis=1)\n",
    "ys = np.std(X, axis=1)"
   ]
  },
  {
   "cell_type": "code",
   "execution_count": 3,
   "metadata": {
    "collapsed": true
   },
   "outputs": [],
   "source": [
    "fig = plt.figure()\n",
    "ax = fig.add_subplot(111)\n",
    "ax.set_title('click on point to plot time series')\n",
    "line, = ax.plot(xs, ys, 'o', picker=5)  # 5 points tolerance"
   ]
  },
  {
   "cell_type": "code",
   "execution_count": 4,
   "metadata": {
    "collapsed": true
   },
   "outputs": [],
   "source": [
    "def onpick(event):\n",
    "\n",
    "    if event.artist!=line: return True\n",
    "\n",
    "    N = len(event.ind)\n",
    "    if not N: return True\n",
    "\n",
    "\n",
    "    figi = plt.figure()\n",
    "    for subplotnum, dataind in enumerate(event.ind):\n",
    "        ax = figi.add_subplot(N,1,subplotnum+1)\n",
    "        ax.plot(X[dataind])\n",
    "        ax.text(0.05, 0.9, 'mu=%1.3f\\nsigma=%1.3f'%(xs[dataind], ys[dataind]),\n",
    "                transform=ax.transAxes, va='top')\n",
    "        ax.set_ylim(-0.5, 1.5)\n",
    "    figi.show()\n",
    "    return True"
   ]
  },
  {
   "cell_type": "code",
   "execution_count": 5,
   "metadata": {
    "collapsed": true
   },
   "outputs": [],
   "source": [
    "fig.canvas.mpl_connect('pick_event', onpick)\n",
    "plt.show()"
   ]
  },
  {
   "cell_type": "code",
   "execution_count": null,
   "metadata": {
    "collapsed": true
   },
   "outputs": [],
   "source": []
  }
 ],
 "metadata": {
  "kernelspec": {
   "display_name": "Python 2",
   "language": "python",
   "name": "python2"
  },
  "language_info": {
   "codemirror_mode": {
    "name": "ipython",
    "version": 2
   },
   "file_extension": ".py",
   "mimetype": "text/x-python",
   "name": "python",
   "nbconvert_exporter": "python",
   "pygments_lexer": "ipython2",
   "version": "2.7.10"
  }
 },
 "nbformat": 4,
 "nbformat_minor": 2
}
