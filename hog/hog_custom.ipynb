{
 "cells": [
  {
   "cell_type": "code",
   "execution_count": 1,
   "metadata": {
    "collapsed": true
   },
   "outputs": [],
   "source": [
    "%matplotlib inline\n",
    "from scipy import misc\n",
    "import cv2\n",
    "import numpy as np\n",
    "import math\n",
    "import matplotlib.pyplot as plt\n",
    "from skimage import data"
   ]
  },
  {
   "cell_type": "markdown",
   "metadata": {},
   "source": [
    "# HOG\n",
    "HOG特征输入为128*64的灰度图像，一个block由2*2个cell组成，一个cell由8*8个pixel组成，将一个cell用直方图(bins=9，[0,20,40,60,80,100,120,140,160])表示，那么一个block由2*2*9共36长度的向量表示。\n",
    "\n",
    "---\n",
    "## 参考链接\n",
    "\n",
    "[Histogram of Oriented Gradients](https://www.learnopencv.com/histogram-of-oriented-gradients/)\n",
    "\n",
    "[方向梯度直方图](https://zh.wikipedia.org/wiki/%E6%96%B9%E5%90%91%E6%A2%AF%E5%BA%A6%E7%9B%B4%E6%96%B9%E5%9B%BE)\n",
    "\n",
    "[图像特征提取之HOG特征](https://senitco.github.io/2017/06/10/image-feature-hog/)\n",
    "\n",
    "[80行Python实现-HOG梯度特征提取](https://pengzhaoqing.github.io/%E8%AE%A1%E7%AE%97%E6%9C%BA%E8%A7%86%E8%A7%89/hog/)\n",
    "\n",
    "[histogram.py](https://github.com/JeanKossaifi/python-hog/blob/master/hog/histogram.py)\n",
    "\n",
    "[hog.py](https://github.com/PENGZhaoqing/Hog-feature/blob/master/hog.py)\n",
    "\n",
    "[hog.py](https://github.com/holtzhau/scikits.image/blob/master/skimage/feature/hog.py)"
   ]
  },
  {
   "cell_type": "code",
   "execution_count": 2,
   "metadata": {
    "collapsed": true
   },
   "outputs": [],
   "source": [
    "# np.atleast_2d?\n",
    "# np.diff?\n",
    "# np.arctan2?\n",
    "# np.where?"
   ]
  },
  {
   "cell_type": "markdown",
   "metadata": {},
   "source": [
    "np.diff(a, n=1, axis=-1) along the given axis diff"
   ]
  },
  {
   "cell_type": "code",
   "execution_count": 3,
   "metadata": {},
   "outputs": [],
   "source": [
    "img = cv2.imread('../data/lena.jpg')\n",
    "img = cv2.cvtColor(img, cv2.COLOR_BGR2GRAY)\n",
    "img = img.astype(np.float32)\n",
    "# img = misc.imresize(img, (128, 64))\n",
    "# img = data.astronaut()\n",
    "# img = cv2.cvtColor(img, cv2.COLOR_RGB2GRAY)\n",
    "# img = img.astype(np.float32)\n",
    "height, width = img.shape"
   ]
  },
  {
   "cell_type": "code",
   "execution_count": 4,
   "metadata": {},
   "outputs": [
    {
     "data": {
      "text/plain": [
       "(512, 512)"
      ]
     },
     "execution_count": 4,
     "metadata": {},
     "output_type": "execute_result"
    }
   ],
   "source": [
    "img.shape"
   ]
  },
  {
   "cell_type": "code",
   "execution_count": 5,
   "metadata": {},
   "outputs": [
    {
     "data": {
      "text/plain": [
       "dtype('float32')"
      ]
     },
     "execution_count": 5,
     "metadata": {},
     "output_type": "execute_result"
    }
   ],
   "source": [
    "img.dtype"
   ]
  },
  {
   "cell_type": "markdown",
   "metadata": {},
   "source": [
    "# 计算一阶图像梯度\n",
    "$$g_x=I(x,y)-I(x-1,y)$$\n",
    "$$g_y=I(x,y)-I(x,y-1)$$"
   ]
  },
  {
   "cell_type": "code",
   "execution_count": 6,
   "metadata": {
    "collapsed": true
   },
   "outputs": [],
   "source": [
    "# gx = np.zeros_like(img)\n",
    "# gy = np.zeros_like(img)\n",
    "# gx[:, 1:] = np.diff(img, n=1, axis=1) # 第二维度进行差分，其中第一个元素为0\n",
    "# gy[1:, :] = np.diff(img, n=1, axis=0) # 第二维度进行差分，其中第一个元素为0"
   ]
  },
  {
   "cell_type": "code",
   "execution_count": 7,
   "metadata": {
    "collapsed": true
   },
   "outputs": [],
   "source": [
    "gx = cv2.Sobel(img, -1, dx=1, dy=0, ksize=1)\n",
    "gy = cv2.Sobel(img, -1, dx=0, dy=1, ksize=1)"
   ]
  },
  {
   "cell_type": "code",
   "execution_count": 8,
   "metadata": {
    "collapsed": true
   },
   "outputs": [],
   "source": [
    "magnitude = np.sqrt(gx**2+gy**2)\n",
    "orientation = np.arctan2(gy, gx) * 180 / np.pi"
   ]
  },
  {
   "cell_type": "code",
   "execution_count": 9,
   "metadata": {
    "collapsed": true
   },
   "outputs": [],
   "source": [
    "orientation_bins = 9 # 方向直方图bin为9\n",
    "cell_size = 8\n",
    "block_size = 16"
   ]
  },
  {
   "cell_type": "code",
   "execution_count": 10,
   "metadata": {
    "collapsed": true
   },
   "outputs": [],
   "source": [
    "# 一个cell的\n",
    "def cell_gradient(cell_magnitude, cell_angle, orientation_bins=9):\n",
    "    orientation_centers = [0] * orientation_bins\n",
    "    angle_unit = 180 / orientation_bins # angle_unit=20\n",
    "    for k in range(cell_magnitude.shape[0]):\n",
    "        for l in range(cell_magnitude.shape[1]):\n",
    "            # 每一个cell的梯度大小和方向\n",
    "            gradient_strength = cell_magnitude[k][l]\n",
    "            gradient_angle = cell_angle[k][l]\n",
    "            # 设置梯度方向区间为0-180\n",
    "            if gradient_angle<0:\n",
    "                gradient_angle = 180+gradient_angle\n",
    "            gradient_angle = int(gradient_angle)\n",
    "            min_angle = int(gradient_angle / angle_unit) % orientation_bins\n",
    "            max_angle = (min_angle + 1) % orientation_bins\n",
    "            mod = gradient_angle % angle_unit # 防止角度刚好在中间，均分幅值\n",
    "            orientation_centers[min_angle] += int(gradient_strength * (1 - (mod * 1.0 / angle_unit)))\n",
    "            orientation_centers[max_angle] += int(gradient_strength * (mod *1.0 / angle_unit))\n",
    "    return orientation_centers"
   ]
  },
  {
   "cell_type": "code",
   "execution_count": 11,
   "metadata": {
    "collapsed": true
   },
   "outputs": [],
   "source": [
    "cell_gradient_vector = np.zeros((height/cell_size, width/cell_size, orientation_bins))"
   ]
  },
  {
   "cell_type": "code",
   "execution_count": 12,
   "metadata": {},
   "outputs": [
    {
     "data": {
      "text/plain": [
       "(64, 64, 9)"
      ]
     },
     "execution_count": 12,
     "metadata": {},
     "output_type": "execute_result"
    }
   ],
   "source": [
    "cell_gradient_vector.shape"
   ]
  },
  {
   "cell_type": "code",
   "execution_count": 13,
   "metadata": {
    "collapsed": true
   },
   "outputs": [],
   "source": [
    "for i in range(cell_gradient_vector.shape[0]):\n",
    "    for j in range(cell_gradient_vector.shape[1]):\n",
    "        # 获取每一个cell的梯度幅值和方向\n",
    "        cell_magnitude = magnitude[i * cell_size:(i + 1) * cell_size,\n",
    "                         j * cell_size:(j + 1) * cell_size]\n",
    "        cell_angle = orientation[i * cell_size:(i + 1) * cell_size,\n",
    "                     j * cell_size:(j + 1) * cell_size]\n",
    "\n",
    "        cell_gradient_vector[i][j] = cell_gradient(cell_magnitude, cell_angle)"
   ]
  },
  {
   "cell_type": "code",
   "execution_count": 14,
   "metadata": {},
   "outputs": [
    {
     "data": {
      "text/plain": [
       "array([53., 25., 15., 13., 26.,  9., 10.,  1.,  2.])"
      ]
     },
     "execution_count": 14,
     "metadata": {},
     "output_type": "execute_result"
    }
   ],
   "source": [
    "cell_gradient_vector[0, 0, :]"
   ]
  },
  {
   "cell_type": "code",
   "execution_count": 15,
   "metadata": {},
   "outputs": [
    {
     "data": {
      "text/plain": [
       "<matplotlib.image.AxesImage at 0x10a9b4dd0>"
      ]
     },
     "execution_count": 15,
     "metadata": {},
     "output_type": "execute_result"
    },
    {
     "data": {
      "image/png": "[encoded data removed]",
      "text/plain": [
       "<Figure size 432x288 with 1 Axes>"
      ]
     },
     "metadata": {},
     "output_type": "display_data"
    }
   ],
   "source": [
    "hog_image= np.zeros([height, width])\n",
    "cell_width = cell_size / 2\n",
    "max_mag = np.array(cell_gradient_vector).max()\n",
    "angle_unit = 180 / orientation_bins\n",
    "for x in range(cell_gradient_vector.shape[0]):\n",
    "    for y in range(cell_gradient_vector.shape[1]):\n",
    "        cell_grad = cell_gradient_vector[x][y]\n",
    "        cell_grad /= max_mag\n",
    "        angle = 0\n",
    "        angle_gap = angle_unit\n",
    "        for mag in cell_grad:\n",
    "            angle_radian = math.radians(angle)\n",
    "            x1 = int(x * cell_size + mag * cell_width * math.cos(angle_radian))\n",
    "            y1 = int(y * cell_size + mag * cell_width * math.sin(angle_radian))\n",
    "            x2 = int(x * cell_size - mag * cell_width * math.cos(angle_radian))\n",
    "            y2 = int(y * cell_size - mag * cell_width * math.sin(angle_radian))\n",
    "            cv2.line(hog_image, (y1, x1), (y2, x2), int(255 * math.sqrt(mag)))\n",
    "            angle += angle_gap\n",
    "plt.imshow(hog_image, cmap='gray')"
   ]
  },
  {
   "cell_type": "code",
   "execution_count": 16,
   "metadata": {},
   "outputs": [
    {
     "name": "stdout",
     "output_type": "stream",
     "text": [
      "('hog_vector.shape:', (142884, 1))\n"
     ]
    }
   ],
   "source": [
    "hog_vector = []\n",
    "for i in range(cell_gradient_vector.shape[0] - 1):\n",
    "    for j in range(cell_gradient_vector.shape[1] - 1):\n",
    "        block_vector = []\n",
    "        block_vector.extend(cell_gradient_vector[i][j])\n",
    "        block_vector.extend(cell_gradient_vector[i][j + 1])\n",
    "        block_vector.extend(cell_gradient_vector[i + 1][j])\n",
    "        block_vector.extend(cell_gradient_vector[i + 1][j + 1])\n",
    "        mag = lambda vector: math.sqrt(sum(i ** 2 for i in vector))\n",
    "        mag_norm_val = mag(block_vector)\n",
    "        if mag_norm_val != 0:\n",
    "            normalize = lambda block_vector, mag_norm_val: [element / mag_norm_val for element in block_vector]\n",
    "            block_vector = normalize(block_vector, mag_norm_val)\n",
    "        hog_vector.append(block_vector)\n",
    "hog_vector = np.array(hog_vector)\n",
    "hog_vector = hog_vector.reshape(-1, 1)\n",
    "print('hog_vector.shape:', hog_vector.shape)"
   ]
  },
  {
   "cell_type": "code",
   "execution_count": 17,
   "metadata": {},
   "outputs": [
    {
     "data": {
      "text/plain": [
       "array([[0.33061778],\n",
       "       [0.15595178],\n",
       "       [0.09357107],\n",
       "       ...,\n",
       "       [0.04677296],\n",
       "       [0.02728423],\n",
       "       [0.05067071]])"
      ]
     },
     "execution_count": 17,
     "metadata": {},
     "output_type": "execute_result"
    }
   ],
   "source": [
    "hog_vector"
   ]
  },
  {
   "cell_type": "code",
   "execution_count": null,
   "metadata": {
    "collapsed": true
   },
   "outputs": [],
   "source": []
  }
 ],
 "metadata": {
  "kernelspec": {
   "display_name": "Python 2",
   "language": "python",
   "name": "python2"
  },
  "language_info": {
   "codemirror_mode": {
    "name": "ipython",
    "version": 2
   },
   "file_extension": ".py",
   "mimetype": "text/x-python",
   "name": "python",
   "nbconvert_exporter": "python",
   "pygments_lexer": "ipython2",
   "version": "2.7.10"
  }
 },
 "nbformat": 4,
 "nbformat_minor": 2
}
